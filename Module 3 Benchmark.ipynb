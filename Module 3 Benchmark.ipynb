{
 "cells": [
  {
   "cell_type": "markdown",
   "id": "07d08828-39be-453d-9c15-7d0737ceb72f",
   "metadata": {},
   "source": [
    "## Module_3: *(Template)*\n",
    "\n",
    "## Team Members:\n",
    "- Hudson King and Angelina Leung\n",
    "\n",
    "## Project Title:\n",
    "VEFG Trends Across Various Cancers\n",
    "\n"
   ]
  },
  {
   "cell_type": "markdown",
   "id": "8372d796-186a-4ae2-9b4f-0065979e555a",
   "metadata": {},
   "source": [
    "## Project Goal:\n",
    "- How the expressiong of VEGF Ligands vary across different cancers.\n",
    "- Is there a cancer that requires greater angiogenesis to sustain life?"
   ]
  },
  {
   "attachments": {},
   "cell_type": "markdown",
   "id": "91408b75-185a-4d66-9ce7-7c7aabbde5e1",
   "metadata": {},
   "source": [
    "## Disease Background:\n",
    "*Pick a hallmark to focus on, and figure out what genes you are interested in researching based on that decision. Then fill out the information below.*\n",
    "\n",
    "* Cancer hallmark focus: \n",
    "    - Sustained Angiogenesis\n",
    "* Overview of hallmark: \n",
    "    - Our hallmark of interest is sustained angiogenesis, which is the process of growing new blood cells. In a healthy case, angiogenesis may occur to heal damaged tissue by supplying it with oxygen and nutrients. Similarly, it can nourish cancer cells and promote their growth and spread. Often, angiogenesis is seen in the early stages of many cancers. There is usually a balance between angiogenesis promoters, such as vascular endothelial growth factor (VEGF) and fibroblast growth factor (FGF1/2), and inhibitors, such as thrombospondin-1; however, this balance is disrupted with cancer. VEGF and FGFs have greater expression while thrombospondin-1 has decreased expression. We will focus on VEGF. These growth factors bind to transmembrane tyrosine kinase receptors on endothelial cells, which are involved in cell proliferation. The binding of VEGF on tyrosine kinase receptors triggers a signal-transduction cascade that activates the ras oncogene and the downstream effectors that further promote more growth factors.\n",
    "* Genes associated with hallmark to be studied (describe the role of each gene, signaling pathway, or gene set you are going to investigate):\n",
    "    - VEGF drives new blood vessel growth by activating its receptors on endothelial cells, boosting their proliferation, survival, and movement. It rises with low oxygen and tumor signals, and in our data can be tracked via VEGFA and receptor expression plus an angiogenesis gene-set score\n",
    "        - https://doi.org/10.1016/S0092-8674(00)81683-9\n",
    "\n",
    "*Will you be focusing on a single cancer type or looking across cancer types? Depending on your decision, update this section to include relevant information about the disease at the appropriate level of detail. Regardless, each bullet point should be filled in. If you are looking at multiple cancer types, you shoul.d investigate differences between the types (e.g. what is the most prevalent cancer type? What type has the highest mortality rate?) and similarities (e.g. what sorts of treatments exist across the board for cancer patients? what is common to all cancers in terms of biological mechanisms?). Note that this is a smaller list than the initial 11 in Module 1.*\n",
    "\n",
    "* Prevalence & incidence\n",
    "    - All Cancer U.S. death rates is approximately 145.4 per 100k (2019-2023)\n",
    "    - Lung cancer contributes the most deaths worldwide\n",
    "        - https://acsjournals.onlinelibrary.wiley.com/doi/full/10.3322/caac.21834\n",
    "        - https://www.cancer.org/content/dam/cancer-org/research/cancer-facts-and-statistics/annual-cancer-facts-and-figures/2025/2025-cancer-facts-and-figures-acs.pdf\n",
    "* Risk factors (genetic, lifestyle) & Societal determinants\n",
    "    - Tobacco and alcohol usage, obesity and physical inactivity, oncogenic infectins, environmental exposures, age, and family history. \n",
    "    - Incidence and stage at diagnosis varies across ethinicitues, incomes, geopgraphy, sexual orientation, and accessability to medical treatment. \n",
    "        - https://www.cdc.gov/cancer/risk-factors/index.html\n",
    "        - https://www.cancer.gov/about-cancer/understanding/disparities\n",
    "* Standard of care treatments (& reimbursement)\n",
    "    - Across cancers, standard of care includes surgery, radiation therapy, chemotherapy, immunotherapy, and endocrine therapy. \n",
    "    - Medicare covers various cancer services including inpatient and outpatient radiation services and numerous chemo/targeted delivery drugs.\n",
    "        - https://www.medicare.gov/coverage/radiation-therapy\n",
    "* Biological mechanisms (anatomy, organ physiology, cell & molecular physiology)\n",
    "    - Across the various cancers there are certain distinguished hallmarks that define the biological mechanisms of cancer: Evading apoptosis, self-sufficient growth signals, sustained angiogenesis, limitless replicative potential, tissue invasion and metastasis, and insensitivity to anti-growth signals. \n"
   ]
  },
  {
   "cell_type": "markdown",
   "id": "3b99aefb-cb03-4bd8-b972-437eb0e02dfe",
   "metadata": {},
   "source": [
    "## Data-Set: \n",
    "\n",
    "*Once you decide on the subset of data you want to use (i.e. only 1 cancer type or many; any clinical features needed?; which genes will you look at?) describe the dataset. There are a ton of clinical features, so you don't need to describe them all, only the ones pertinent to your question.*\n",
    "\n",
    "*(Describe the data set(s) you will analyze. Cite the source(s) of the data. Describe how the data was collected -- What techniques were used? What units are the data measured in? Etc.)*\n",
    "\n",
    "* Data was collected via specimen and sequencing, read alignment, and normalization techniques from a pan-cancer compendium of TCGA RNA-seq profiles processed by Rahman & Piccolo's group. \n",
    "\n",
    "* Origin: TCGA tumor and matched normal tissues for 24 different types of cancer. \n",
    "    - ACC: Adrenocortical carcinoma\n",
    "    - BLCA: Bladder urothelial carcinoma\n",
    "    - BRCA: Breast invasive carcinoma\n",
    "    - CESC: Cervical squamos cell carconoma and Endocervical adenocarcinoma\n",
    "    - COAD: Colon adenocarcinoma\n",
    "    - DLBC – Lymphoid neoplasm diffuse large B-cell lymphoma\n",
    "    - GBM: Glioblastoma multiforme\n",
    "    - HNSC: Head and neck squamous cell carcinoma\n",
    "    - KICH: Kidney chromophobe\n",
    "    - KIRC: Kidney renal clear cell carcinoma\n",
    "    - KIRP: Kidney renal papillary cell carcinoma\n",
    "    - LAML: Acute myeloid leukemia\n",
    "    - LGG: Brain lower grade glioma\n",
    "    - LIHC: Liver hepatocellular carcinoma\n",
    "    - LUAD: Lung adenocarcinoma\n",
    "    - LUSC: Lung squamous cell carcinoma\n",
    "    - OV: Ovarian serous cystadenocarcinoma\n",
    "    - PRAD: Prostate adenocarcinoma\n",
    "    - READ: Rectum adenocarcinoma\n",
    "    - SKCM: Skin cutaneous melanoma\n",
    "    - STAD: Stomach adenocarcinoma\n",
    "    - THCA: Thyroid carcinoma\n",
    "    - UCEC: Uterine corpus endometrial carcinoma\n",
    "    - UCS: Uterine carcinosarcoma\n",
    "* Rows: Protein coding genes\n",
    "* Columns: TCGA sample barcodes\n",
    "* Values: log2(TPM+1) expression values\n",
    "- https://www.ncbi.nlm.nih.gov/geo/query/acc.cgi?acc=GSE62944\n"
   ]
  },
  {
   "cell_type": "markdown",
   "id": "f4cde622-5508-4a54-aba8-77b454138bff",
   "metadata": {},
   "source": [
    "## Data Analyis: \n",
    "\n",
    "### Methods\n",
    "The machine learning technique I am using is: *fill in and describe*\n",
    "\n",
    "*What is this method optimizing? How does the model decide it is \"good enough\"?*\n",
    "\n",
    "**\n",
    "\n",
    "### Analysis\n",
    "*(Describe how you analyzed the data. This is where you should intersperse your Python code so that anyone reading this can run your code to perform the analysis that you did, generate your figures, etc.)*"
   ]
  },
  {
   "cell_type": "code",
   "execution_count": null,
   "id": "6a623415",
   "metadata": {},
   "outputs": [],
   "source": [
    "import csv\n",
    "\n",
    "class Gene:\n",
    "    all_genes = []\n",
    "    sample_ids = []\n",
    "\n",
    "    def __init__(self, symbol, expression_dict):\n",
    "        self.symbol = symbol                        \n",
    "        self.expression = expression_dict             \n",
    "        Gene.all_genes.append(self)\n",
    "\n",
    "    def __repr__(self):\n",
    "        return f\"{self.symbol} | Samples: {len(self.expression)}\"\n",
    "\n",
    "    def get_symbol(self):\n",
    "        return self.symbol\n",
    "    \n",
    "    def get_expression(self):\n",
    "        return self.expression\n",
    "\n",
    "    def get_value(self, sample_id: str):\n",
    "        return self.expression.get(sample_id, None)\n",
    "\n",
    "    @classmethod\n",
    "    def instantiate_from_csv(cls, filename: str):\n",
    "        \"\"\"\n",
    "        Creates one Gene object per row.\n",
    "        Expects the first column to be gene symbols and the remaining columns to be TCGA samples.\n",
    "        \"\"\"\n",
    "        with open(filename, encoding=\"utf8\", newline=\"\") as f:\n",
    "            reader = csv.DictReader(f)\n",
    "            fieldnames = reader.fieldnames\n",
    "            if not fieldnames:\n",
    "                raise ValueError(\"CSV has no header.\")\n",
    "\n",
    "            gene_col = fieldnames[0]\n",
    "            cls.sample_ids = [h for h in fieldnames if h != gene_col]\n",
    "\n",
    "            rows = list(reader)\n",
    "            for row in rows:\n",
    "                symbol = row[gene_col]\n",
    "\n",
    "                # Build {sample_id: float_value} dict for this gene\n",
    "                expr = {}\n",
    "                for sid in cls.sample_ids:\n",
    "                    val = row.get(sid, \"\")\n",
    "                    expr[sid] = float(val) if val != \"\" else None\n",
    "\n",
    "                Gene(symbol=symbol, expression_dict=expr)\n",
    "\n",
    "            # sort by symbol, like you did with depth\n",
    "            Gene.all_genes.sort(key=Gene.get_symbol)\n",
    "\n",
    "Gene.instantiate_from_csv(\"GSE62944_subsample_log2TPM.csv\")"
   ]
  },
  {
   "cell_type": "code",
   "execution_count": 7,
   "id": "7fb683cf",
   "metadata": {},
   "outputs": [
    {
     "name": "stdout",
     "output_type": "stream",
     "text": [
      "15716 Genes\n",
      "First 3 samples: ['TCGA-E9-A1NI-01A-11R-A14D-07', 'TCGA-E2-A1LK-01A-21R-A14D-07', 'TCGA-BH-A0B2-01A-11R-A10J-07']\n",
      "A1BG | Samples: 1802\n",
      "3.397369106338275\n"
     ]
    }
   ],
   "source": [
    "print(len(Gene.all_genes), \"Genes\")\n",
    "print(\"First 3 samples:\", Gene.sample_ids[:3])\n",
    "print(Gene.all_genes[0])                  \n",
    "s0 = Gene.sample_ids[0]\n",
    "print(Gene.all_genes[0].get_value(s0))   # log2TPM for first gene in first sample"
   ]
  },
  {
   "cell_type": "markdown",
   "id": "5c67b6a4-ec94-4d28-b2a7-f6b860495118",
   "metadata": {},
   "source": [
    "## Verify and validate your analysis: \n",
    "*Pick a SPECIFIC method to determine how well your model is performing and describe how it works here.*\n",
    "\n",
    "*(Describe how you checked to see that your analysis gave you an answer that you believe (verify). Describe how your determined if your analysis gave you an answer that is supported by other evidence (e.g., a published paper).*"
   ]
  },
  {
   "cell_type": "markdown",
   "id": "2736cf95-2b93-444f-90c8-d40a54fc1df1",
   "metadata": {},
   "source": [
    "## Conclusions and Ethical Implications: \n",
    "*(Think about the answer your analysis generated, draw conclusions related to your overarching question, and discuss the ethical implications of your conclusions.*"
   ]
  },
  {
   "cell_type": "markdown",
   "id": "f023b735-6efb-43ed-a03d-eb4a9cdb734e",
   "metadata": {},
   "source": [
    "## Limitations and Future Work: \n",
    "*(Think about the answer your analysis generated, draw conclusions related to your overarching question, and discuss the ethical implications of your conclusions.*"
   ]
  },
  {
   "cell_type": "markdown",
   "id": "d9295960-2404-43dc-b46f-9a6f823f1657",
   "metadata": {},
   "source": [
    "## NOTES FROM YOUR TEAM: \n",
    "- Working on fine-tuning question and exploring different data sets. "
   ]
  },
  {
   "cell_type": "markdown",
   "id": "bd725b7f-9741-46b6-a213-9518da9201c3",
   "metadata": {},
   "source": [
    "## QUESTIONS FOR YOUR TA: \n",
    "*These are questions we have for our TA.*"
   ]
  },
  {
   "cell_type": "code",
   "execution_count": null,
   "id": "0d0190cf-c056-4b2c-a0c0-a56dfb854a55",
   "metadata": {},
   "outputs": [],
   "source": [
    "N/A"
   ]
  }
 ],
 "metadata": {
  "kernelspec": {
   "display_name": "base",
   "language": "python",
   "name": "python3"
  },
  "language_info": {
   "codemirror_mode": {
    "name": "ipython",
    "version": 3
   },
   "file_extension": ".py",
   "mimetype": "text/x-python",
   "name": "python",
   "nbconvert_exporter": "python",
   "pygments_lexer": "ipython3",
   "version": "3.13.5"
  }
 },
 "nbformat": 4,
 "nbformat_minor": 5
}
